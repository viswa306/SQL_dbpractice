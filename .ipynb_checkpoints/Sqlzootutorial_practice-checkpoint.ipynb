{
 "cells": [
  {
   "cell_type": "markdown",
   "metadata": {},
   "source": [
    "# sqlzoo.net practice questions\n",
    "#SELECT from Nobel Tutorial"
   ]
  },
  {
   "cell_type": "code",
   "execution_count": null,
   "metadata": {},
   "outputs": [],
   "source": [
    "#1.Change the query shown so that it displays Nobel prizes for 1950.\\\n",
    "SELECT yr, subject, winner\n",
    "  FROM nobel\n",
    " WHERE yr = 1950"
   ]
  },
  {
   "cell_type": "code",
   "execution_count": null,
   "metadata": {},
   "outputs": [],
   "source": [
    "#2.Show who won the 1962 prize for Literature.\n",
    "SELECT winner\n",
    "  FROM nobel\n",
    "WHERE yr = 1962\n",
    "   AND subject = 'Literature'"
   ]
  },
  {
   "cell_type": "code",
   "execution_count": null,
   "metadata": {},
   "outputs": [],
   "source": [
    "#3.Show the year and subject that won 'Albert Einstein' his prize.\n",
    "select yr,subject\n",
    "from nobel\n",
    "where winner ='Albert Einstein'"
   ]
  },
  {
   "cell_type": "code",
   "execution_count": null,
   "metadata": {},
   "outputs": [],
   "source": [
    "#4.Give the name of the 'Peace' winners since the year 2000, including 2000.\n",
    "select winner\n",
    "from nobel\n",
    "where yr>=2000 and subject='Peace'"
   ]
  },
  {
   "cell_type": "code",
   "execution_count": null,
   "metadata": {},
   "outputs": [],
   "source": [
    "#5.Show all details (yr, subject, winner) of the Literature prize winners for 1980 to 1989 inclusive.\n",
    "select yr,subject,winner \n",
    "from nobel\n",
    "where subject='Literature'and yr >=1980 and yr<=1989"
   ]
  },
  {
   "cell_type": "code",
   "execution_count": null,
   "metadata": {},
   "outputs": [],
   "source": [
    "#6.Show all details of the presidential winners:\n",
    "\n",
    "# Theodore Roosevelt\n",
    "# Woodrow Wilson\n",
    "# Jimmy Carter\n",
    "# Barack Obama\n",
    "\n",
    "SELECT * FROM nobel\n",
    " WHERE winner in('Theodore Roosevelt','Woodrow Wilson','Jimmy Carter','Barack Obama')"
   ]
  },
  {
   "cell_type": "code",
   "execution_count": null,
   "metadata": {},
   "outputs": [],
   "source": [
    "#7.Show the winners with first name John\n",
    "select winner\n",
    "from nobel\n",
    "where winner LIKE 'John%'"
   ]
  },
  {
   "cell_type": "code",
   "execution_count": null,
   "metadata": {},
   "outputs": [],
   "source": [
    "#8Chemistry and Physics from different years,Show the year, subject, and name of Physics winners for 1980 together with the Chemistry winners for 1984.\n",
    "\n",
    "select yr,subject,winner\n",
    "from nobel\n",
    "where (subject='Physics' and yr=1980) or (subject='Chemistry' and yr=1984)"
   ]
  },
  {
   "cell_type": "code",
   "execution_count": null,
   "metadata": {},
   "outputs": [],
   "source": [
    "#9.Show the year, subject, and name of winners for 1980 excluding Chemistry and Medicine\n",
    "select yr,subject,winner\n",
    "from nobel\n",
    "where yr=1980 and subject NOT IN('Chemistry','Medicine')\n"
   ]
  },
  {
   "cell_type": "code",
   "execution_count": null,
   "metadata": {},
   "outputs": [],
   "source": [
    "#10.Show year, subject, and name of people who won a 'Medicine' prize in an early year (before 1910, not including 1910) together with winners of a 'Literature' prize in a later year (after 2004, including 2004)\n",
    "select yr,subject,winner\n",
    "from nobel\n",
    "where (subject='Medicine' and yr<1910) or (subject ='Literature' and yr>=2004)"
   ]
  }
 ],
 "metadata": {
  "kernelspec": {
   "display_name": "Python 3",
   "language": "python",
   "name": "python3"
  },
  "language_info": {
   "codemirror_mode": {
    "name": "ipython",
    "version": 3
   },
   "file_extension": ".py",
   "mimetype": "text/x-python",
   "name": "python",
   "nbconvert_exporter": "python",
   "pygments_lexer": "ipython3",
   "version": "3.7.4"
  }
 },
 "nbformat": 4,
 "nbformat_minor": 2
}
