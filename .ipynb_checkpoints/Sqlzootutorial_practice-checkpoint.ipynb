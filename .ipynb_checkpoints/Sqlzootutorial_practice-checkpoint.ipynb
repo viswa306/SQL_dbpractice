{
 "cells": [
  {
   "cell_type": "markdown",
   "metadata": {},
   "source": [
    "# sqlzoo.net practice questions\n",
    "#SELECT from Nobel Tutorial"
   ]
  },
  {
   "cell_type": "code",
   "execution_count": null,
   "metadata": {},
   "outputs": [],
   "source": [
    "#1.Change the query shown so that it displays Nobel prizes for 1950.\\\n",
    "SELECT yr, subject, winner\n",
    "  FROM nobel\n",
    " WHERE yr = 1950"
   ]
  },
  {
   "cell_type": "code",
   "execution_count": null,
   "metadata": {},
   "outputs": [],
   "source": [
    "#2.Show who won the 1962 prize for Literature.\n",
    "SELECT winner\n",
    "  FROM nobel\n",
    "WHERE yr = 1962\n",
    "   AND subject = 'Literature'"
   ]
  },
  {
   "cell_type": "code",
   "execution_count": null,
   "metadata": {},
   "outputs": [],
   "source": [
    "#3.Show the year and subject that won 'Albert Einstein' his prize.\n",
    "select yr,subject\n",
    "from nobel\n",
    "where winner ='Albert Einstein'"
   ]
  },
  {
   "cell_type": "code",
   "execution_count": null,
   "metadata": {},
   "outputs": [],
   "source": [
    "#4.Give the name of the 'Peace' winners since the year 2000, including 2000.\n",
    "select winner\n",
    "from nobel\n",
    "where yr>=2000 and subject='Peace'"
   ]
  },
  {
   "cell_type": "code",
   "execution_count": null,
   "metadata": {},
   "outputs": [],
   "source": []
  },
  {
   "cell_type": "code",
   "execution_count": null,
   "metadata": {},
   "outputs": [],
   "source": []
  }
 ],
 "metadata": {
  "kernelspec": {
   "display_name": "Python 3",
   "language": "python",
   "name": "python3"
  },
  "language_info": {
   "codemirror_mode": {
    "name": "ipython",
    "version": 3
   },
   "file_extension": ".py",
   "mimetype": "text/x-python",
   "name": "python",
   "nbconvert_exporter": "python",
   "pygments_lexer": "ipython3",
   "version": "3.7.4"
  }
 },
 "nbformat": 4,
 "nbformat_minor": 2
}
